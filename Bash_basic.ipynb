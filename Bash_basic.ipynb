{
 "cells": [
  {
   "cell_type": "markdown",
   "id": "d5cd991b-51fd-4cdf-9544-896814b71f98",
   "metadata": {},
   "source": [
    "# Learning Bash Script"
   ]
  },
  {
   "cell_type": "code",
   "execution_count": 1,
   "id": "9d67b8c2-a82d-44b8-aca5-6636c12adb3f",
   "metadata": {},
   "outputs": [
    {
     "name": "stdout",
     "output_type": "stream",
     "text": [
      "Hello Bash!\n"
     ]
    }
   ],
   "source": [
    "%%bash\n",
    "\n",
    "echo \"Hello Bash!\""
   ]
  },
  {
   "cell_type": "markdown",
   "id": "f63bc66f-e38c-49a5-86f6-3588f0ff2379",
   "metadata": {},
   "source": [
    "## Create a test file with %%file magic command"
   ]
  },
  {
   "cell_type": "code",
   "execution_count": 2,
   "id": "b25845e4-b7c5-45f3-9c78-908bf5c87113",
   "metadata": {},
   "outputs": [
    {
     "name": "stdout",
     "output_type": "stream",
     "text": [
      "Writing test.txt\n"
     ]
    }
   ],
   "source": [
    "%%file test.txt\n",
    "Bash is a Unix shell and command language written by Brian Fox for the GNU Project as a free software replacement for the Bourne shell."
   ]
  },
  {
   "cell_type": "markdown",
   "id": "ab26fbe0-1b53-42cb-adfd-f73820fda8ee",
   "metadata": {},
   "source": [
    "## pipes and redirection"
   ]
  },
  {
   "cell_type": "markdown",
   "id": "2fb619aa-f825-4907-ac29-c60eea147460",
   "metadata": {},
   "source": [
    "### pipes send the result of one process to another"
   ]
  },
  {
   "cell_type": "code",
   "execution_count": 3,
   "id": "bda5e5e2-7bdb-4a7e-bf51-bb7e7e48e476",
   "metadata": {},
   "outputs": [
    {
     "name": "stdout",
     "output_type": "stream",
     "text": [
      "4\n"
     ]
    }
   ],
   "source": [
    "%%bash\n",
    "\n",
    "ls | wc -l"
   ]
  },
  {
   "cell_type": "code",
   "execution_count": 5,
   "id": "279848cf-c6f0-474b-a479-4959e6071caf",
   "metadata": {},
   "outputs": [
    {
     "name": "stdout",
     "output_type": "stream",
     "text": [
      "      1      25     136\n"
     ]
    }
   ],
   "source": [
    "%%bash\n",
    "cat test.txt | wc"
   ]
  },
  {
   "cell_type": "code",
   "execution_count": 4,
   "id": "df9fa2bc-fac2-40ca-b0a5-dbaa12744055",
   "metadata": {},
   "outputs": [
    {
     "name": "stdout",
     "output_type": "stream",
     "text": [
      "Bash is a Unix shell and command language written by Brian Fox for the GNU Project as a free software replacement for the Bourne shell.\n"
     ]
    }
   ],
   "source": [
    "%%bash\n",
    "cat test.txt | less"
   ]
  },
  {
   "cell_type": "markdown",
   "id": "443c230b-446b-471a-9864-fcd00b466834",
   "metadata": {},
   "source": [
    "### Redirections send stream to or from files"
   ]
  },
  {
   "cell_type": "code",
   "execution_count": 6,
   "id": "a0311ffb-2996-4cf2-9672-b53cc998f8d9",
   "metadata": {},
   "outputs": [],
   "source": [
    "%%bash\n",
    "\n",
    "#'>' replace the content of file\n",
    "echo \" Bash can also read and execute commands from a file, called a shell script.\" > test.txt"
   ]
  },
  {
   "cell_type": "code",
   "execution_count": 7,
   "id": "e5d42871-6cc5-466d-95a8-ebd2a4628d37",
   "metadata": {},
   "outputs": [],
   "source": [
    "%%bash\n",
    "\n",
    "#'>>' append to end of the file\n",
    "echo \" Bash can also read and execute commands from a file, called a shell script.\" >> test.txt"
   ]
  },
  {
   "cell_type": "code",
   "execution_count": null,
   "id": "1f90b1b5-9b4d-4bfe-8a1a-083be164e66f",
   "metadata": {},
   "outputs": [],
   "source": []
  }
 ],
 "metadata": {
  "kernelspec": {
   "display_name": "Python 3 (ipykernel)",
   "language": "python",
   "name": "python3"
  },
  "language_info": {
   "codemirror_mode": {
    "name": "ipython",
    "version": 3
   },
   "file_extension": ".py",
   "mimetype": "text/x-python",
   "name": "python",
   "nbconvert_exporter": "python",
   "pygments_lexer": "ipython3",
   "version": "3.10.13"
  }
 },
 "nbformat": 4,
 "nbformat_minor": 5
}
