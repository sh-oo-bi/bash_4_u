{
 "cells": [
  {
   "cell_type": "markdown",
   "id": "d5cd991b-51fd-4cdf-9544-896814b71f98",
   "metadata": {},
   "source": [
    "# Learning Bash Script"
   ]
  },
  {
   "cell_type": "code",
   "execution_count": 1,
   "id": "9d67b8c2-a82d-44b8-aca5-6636c12adb3f",
   "metadata": {},
   "outputs": [
    {
     "name": "stdout",
     "output_type": "stream",
     "text": [
      "Hello Bash!\n"
     ]
    }
   ],
   "source": [
    "%%bash\n",
    "\n",
    "echo \"Hello Bash!\""
   ]
  },
  {
   "cell_type": "markdown",
   "id": "f63bc66f-e38c-49a5-86f6-3588f0ff2379",
   "metadata": {},
   "source": [
    "## Create a test file with %%file magic command"
   ]
  },
  {
   "cell_type": "code",
   "execution_count": 2,
   "id": "b25845e4-b7c5-45f3-9c78-908bf5c87113",
   "metadata": {},
   "outputs": [
    {
     "name": "stdout",
     "output_type": "stream",
     "text": [
      "Writing test.txt\n"
     ]
    }
   ],
   "source": [
    "%%file test.txt\n",
    "Bash is a Unix shell and command language written by Brian Fox for the GNU Project as a free software replacement for the Bourne shell."
   ]
  },
  {
   "cell_type": "markdown",
   "id": "ab26fbe0-1b53-42cb-adfd-f73820fda8ee",
   "metadata": {},
   "source": [
    "## pipes and redirection"
   ]
  },
  {
   "cell_type": "markdown",
   "id": "2fb619aa-f825-4907-ac29-c60eea147460",
   "metadata": {},
   "source": [
    "### pipes send the result of one process to another"
   ]
  },
  {
   "cell_type": "code",
   "execution_count": 3,
   "id": "bda5e5e2-7bdb-4a7e-bf51-bb7e7e48e476",
   "metadata": {},
   "outputs": [
    {
     "name": "stdout",
     "output_type": "stream",
     "text": [
      "4\n"
     ]
    }
   ],
   "source": [
    "%%bash\n",
    "\n",
    "ls | wc -l"
   ]
  },
  {
   "cell_type": "code",
   "execution_count": 5,
   "id": "279848cf-c6f0-474b-a479-4959e6071caf",
   "metadata": {},
   "outputs": [
    {
     "name": "stdout",
     "output_type": "stream",
     "text": [
      "      1      25     136\n"
     ]
    }
   ],
   "source": [
    "%%bash\n",
    "cat test.txt | wc"
   ]
  },
  {
   "cell_type": "code",
   "execution_count": 4,
   "id": "df9fa2bc-fac2-40ca-b0a5-dbaa12744055",
   "metadata": {},
   "outputs": [
    {
     "name": "stdout",
     "output_type": "stream",
     "text": [
      "Bash is a Unix shell and command language written by Brian Fox for the GNU Project as a free software replacement for the Bourne shell.\n"
     ]
    }
   ],
   "source": [
    "%%bash\n",
    "cat test.txt | less"
   ]
  },
  {
   "cell_type": "markdown",
   "id": "443c230b-446b-471a-9864-fcd00b466834",
   "metadata": {},
   "source": [
    "### Redirections send stream to or from files"
   ]
  },
  {
   "cell_type": "code",
   "execution_count": 6,
   "id": "a0311ffb-2996-4cf2-9672-b53cc998f8d9",
   "metadata": {},
   "outputs": [],
   "source": [
    "%%bash\n",
    "\n",
    "#'>' replace the content of file\n",
    "echo \" Bash can also read and execute commands from a file, called a shell script.\" > test.txt"
   ]
  },
  {
   "cell_type": "code",
   "execution_count": 7,
   "id": "e5d42871-6cc5-466d-95a8-ebd2a4628d37",
   "metadata": {},
   "outputs": [],
   "source": [
    "%%bash\n",
    "\n",
    "#'>>' append to end of the file\n",
    "echo \" Bash can also read and execute commands from a file, called a shell script.\" >> test.txt"
   ]
  },
  {
   "cell_type": "markdown",
   "id": "8fb9adeb-2508-408c-a257-0f9e31aa9ec0",
   "metadata": {},
   "source": [
    "### Expansions and substitution"
   ]
  },
  {
   "cell_type": "markdown",
   "id": "13280ee4-fbc8-4836-8e67-9bbeea12057c",
   "metadata": {},
   "source": [
    "| Representation |         Name         |\r\n",
    "|:--------------:|:--------------------:|\r\n",
    "|        ~       |    Tilda expansion   |\r\n",
    "|                |                      |\r\n",
    "|      {...}     |    Brace expansion   |\r\n",
    "|                |                      |\r\n",
    "|     ${...}     |  Parameter expansion |\r\n",
    "|                |                      |\r\n",
    "|    \\\\$(...)    | Command substitution |\r\n",
    "|                |                      |\r\n",
    "|   \\\\$((...))   | Arithmetic expansion |xpansion |xpansion |sion |sion |sion |ion \t|"
   ]
  },
  {
   "cell_type": "markdown",
   "id": "0507671a-ec59-4fe7-b148-594658931b3d",
   "metadata": {},
   "source": [
    "- ### In Bash the tilda (~) character represent the value of user's home variable and it's used in paths to represent the current user's home directory."
   ]
  },
  {
   "cell_type": "code",
   "execution_count": 12,
   "id": "10f13f98-bd05-4fcc-af4c-2fe3d379dc62",
   "metadata": {},
   "outputs": [
    {
     "name": "stdout",
     "output_type": "stream",
     "text": [
      "Bash_basic.ipynb\n",
      "README.md\n",
      "stop_running_more_process\n",
      "test.txt\n"
     ]
    }
   ],
   "source": [
    "%%bash\n",
    "\n",
    "ls ~/bash_4_u"
   ]
  },
  {
   "cell_type": "markdown",
   "id": "0c0454f3-b0fc-4fb7-b1dc-c03a2e4b93bd",
   "metadata": {},
   "source": [
    "- ### Brace expansion creates sets or ranges\n",
    "## {a,b,c} OR {X..Y..i}"
   ]
  },
  {
   "cell_type": "code",
   "execution_count": 17,
   "id": "609609c5-0868-4e5e-9b42-b4558d031914",
   "metadata": {},
   "outputs": [
    {
     "name": "stdout",
     "output_type": "stream",
     "text": [
      "cat dog fox\n",
      "\n",
      "1 4 7 10 13 16 19 22 25 28\n",
      "\n",
      "cat-1 cat-2 cat-3 dog-1 dog-2 dog-3 fox-1 fox-2 fox-3\n"
     ]
    }
   ],
   "source": [
    "%%bash\n",
    "\n",
    "echo {cat,dog,fox}\n",
    "echo \"\"\n",
    "echo {1..30..3}\n",
    "echo \"\"\n",
    "echo {cat,dog,fox}-{1..3}"
   ]
  },
  {
   "cell_type": "markdown",
   "id": "aa28dbb6-0181-45b2-acf2-052dcda6c87b",
   "metadata": {},
   "source": [
    "- ### Parameter expansion retrieves and transforms stored values.\n",
    "- ### the most straightforward use of parameter expansion is setting a value and then retriving it.\n",
    "- ### Parameter expansion can also be used to manipulate the stored value when it is used, transforming it in various ways, like just using part of the value or replacing certain parts of the value before it's used.\n",
    "## ${...}"
   ]
  },
  {
   "cell_type": "code",
   "execution_count": 20,
   "id": "3aed2906-028a-4b9e-9fb6-052f300eafe7",
   "metadata": {},
   "outputs": [
    {
     "name": "stdout",
     "output_type": "stream",
     "text": [
      "Hello Bash\n",
      "Hello Bash\n",
      "Hello There\n",
      "There\n",
      "The\n"
     ]
    }
   ],
   "source": [
    "%%bash\n",
    "\n",
    "a=\"Hello Bash\"\n",
    "echo $a\n",
    "\n",
    "echo ${a}\n",
    "\n",
    "greeting=\"Hello There\"\n",
    "echo $greeting\n",
    "\n",
    "echo ${greeting:6}\n",
    "\n",
    "echo ${greeting:6:3}"
   ]
  },
  {
   "cell_type": "markdown",
   "id": "60f92647-6d99-47f2-9cdb-c008e5271001",
   "metadata": {},
   "source": []
  }
 ],
 "metadata": {
  "kernelspec": {
   "display_name": "Python 3 (ipykernel)",
   "language": "python",
   "name": "python3"
  },
  "language_info": {
   "codemirror_mode": {
    "name": "ipython",
    "version": 3
   },
   "file_extension": ".py",
   "mimetype": "text/x-python",
   "name": "python",
   "nbconvert_exporter": "python",
   "pygments_lexer": "ipython3",
   "version": "3.10.13"
  }
 },
 "nbformat": 4,
 "nbformat_minor": 5
}
